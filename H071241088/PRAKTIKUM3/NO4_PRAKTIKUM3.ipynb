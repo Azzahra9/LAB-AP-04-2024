{
 "cells": [
  {
   "cell_type": "code",
   "execution_count": 1,
   "metadata": {},
   "outputs": [
    {
     "name": "stdout",
     "output_type": "stream",
     "text": [
      "Tabe kurang Rp.100000 uang ta!\n",
      "\n",
      "\n"
     ]
    },
    {
     "ename": "ValueError",
     "evalue": "invalid literal for int() with base 10: ''",
     "output_type": "error",
     "traceback": [
      "\u001b[1;31m---------------------------------------------------------------------------\u001b[0m",
      "\u001b[1;31mValueError\u001b[0m                                Traceback (most recent call last)",
      "Cell \u001b[1;32mIn[1], line 10\u001b[0m\n\u001b[0;32m      7\u001b[0m \t\u001b[38;5;28;01mreturn\u001b[39;00m hit\n\u001b[0;32m      9\u001b[0m \u001b[38;5;28;01mwhile\u001b[39;00m \u001b[38;5;28;01mTrue\u001b[39;00m:\n\u001b[1;32m---> 10\u001b[0m \tbayar \u001b[38;5;241m=\u001b[39m \u001b[38;5;28;43mint\u001b[39;49m\u001b[43m(\u001b[49m\u001b[38;5;28;43minput\u001b[39;49m\u001b[43m(\u001b[49m\u001b[38;5;124;43m'\u001b[39;49m\u001b[38;5;124;43mMasukkan Pembayaran: \u001b[39;49m\u001b[38;5;124;43m'\u001b[39;49m\u001b[43m)\u001b[49m\u001b[43m)\u001b[49m\n\u001b[0;32m     12\u001b[0m \t\u001b[38;5;28;01mif\u001b[39;00m bayar \u001b[38;5;241m<\u001b[39m barang:\n\u001b[0;32m     13\u001b[0m \t\t\u001b[38;5;28mprint\u001b[39m(\u001b[38;5;124mf\u001b[39m\u001b[38;5;124m\"\u001b[39m\u001b[38;5;124mTabe kurang Rp.\u001b[39m\u001b[38;5;132;01m{\u001b[39;00m\u001b[38;5;28mabs\u001b[39m(bayar\u001b[38;5;241m-\u001b[39mbarang)\u001b[38;5;132;01m}\u001b[39;00m\u001b[38;5;124m uang ta!\u001b[39m\u001b[38;5;130;01m\\n\u001b[39;00m\u001b[38;5;130;01m\\n\u001b[39;00m\u001b[38;5;124m\"\u001b[39m)\n",
      "\u001b[1;31mValueError\u001b[0m: invalid literal for int() with base 10: ''"
     ]
    }
   ],
   "source": [
    "barang\t\t= int(input('Masukkan Harga Barang: '))\n",
    "pecahans\t= [100000, 50000, 20000, 10000, 5000, 2000, 1000]\n",
    "\n",
    "def hitungLembar(kembalian, lembaran):\n",
    "\thit = kembalian // lembaran\n",
    "\tprint(f\"{hit} lembar uang Rp. {lembaran}\") if hit != 0 else ''\n",
    "\treturn hit\n",
    "\n",
    "while True:\n",
    "\tbayar = int(input('Masukkan Pembayaran: '))\n",
    "\n",
    "\tif bayar < barang:\n",
    "\t\tprint(f\"Tabe kurang Rp.{abs(bayar-barang)} uang ta!\\n\\n\")\n",
    "\telif bayar == barang:\n",
    "\t\tprint(\"Uang pas dih, makasih sudah berbelanja\")\n",
    "\t\tbreak\n",
    "\telse:\n",
    "\t\tkembalian = bayar - barang\n",
    "\t\tfor pecahan in pecahans:\n",
    "\t\t\tkembalian = kembalian - pecahan * hitungLembar(kembalian, pecahan)\n",
    "\t\tbreak"
   ]
  }
 ],
 "metadata": {
  "kernelspec": {
   "display_name": "Python 3",
   "language": "python",
   "name": "python3"
  },
  "language_info": {
   "codemirror_mode": {
    "name": "ipython",
    "version": 3
   },
   "file_extension": ".py",
   "mimetype": "text/x-python",
   "name": "python",
   "nbconvert_exporter": "python",
   "pygments_lexer": "ipython3",
   "version": "3.12.6"
  }
 },
 "nbformat": 4,
 "nbformat_minor": 2
}
