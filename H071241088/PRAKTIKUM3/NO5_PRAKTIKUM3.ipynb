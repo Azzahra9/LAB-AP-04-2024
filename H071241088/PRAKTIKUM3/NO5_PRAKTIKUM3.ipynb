{
 "cells": [
  {
   "cell_type": "code",
   "execution_count": null,
   "metadata": {},
   "outputs": [],
   "source": [
    "a = int(input(\"Masukkan populasi awal serangga A: \"))\n",
    "b = int(input(\"Masukkan populasi awal serangga B: \"))\n",
    "n = int(input(\"Masukkan jumlah hari penelitian: \"))\n",
    "\n",
    "def hitung(x, y, z, m = False):\n",
    "\tif m:\n",
    "\t\tpopulasia = x - x*0.1\n",
    "\t\tpopulasib = y - y*0.1\n",
    "\telse:\n",
    "\t\tpopulasia = x + x*0.3 if z == 'naik' else x - x*0.2\n",
    "\t\tpopulasib = y + y*0.5 if z == 'naik' else y - y*0.4\n",
    "\treturn [int(populasia), int(populasib)]\n",
    "\n",
    "i = 1\n",
    "\n",
    "while i <= n:\n",
    "\tif i % 5 == 0:\n",
    "\t\tc = hitung(a, b, 'turun', True)\n",
    "\t\ta = c[0]\n",
    "\t\tb = c[1]\n",
    "\t\tprint(f'hari {i}: Predator memakan 10% dari populasi')\n",
    "\n",
    "\tif i % 2 != 0:\n",
    "\t\tc = hitung(a, b, 'naik')\n",
    "\t\ta = c[0]\n",
    "\t\tb = c[1]\n",
    "\telse:\n",
    "\t\tc = hitung(a, b, 'turun')\n",
    "\t\ta = c[0]\n",
    "\t\tb = c[1]\n",
    "\n",
    "\ti += 1\n",
    "\n",
    "\tpesanA = f\"Populasi Serangga A = {a}\" if a > 0 else \"Populasi Serangga A Habis\"\n",
    "\tpesanB = f\"Populasi Serangga B = {b}\" if b > 0 else \"Populasi Serangga B Habis\"\n",
    "\n",
    "\tprint(f\"hari {i}: {pesanA}, {pesanB}\")\n",
    "\tif a == 0 and b == 0:\n",
    "\t\tprint(\"Penelitian dihentikan! Populasi serangga a dan b telah habis!\")\n",
    "\t\tbreak"
   ]
  }
 ],
 "metadata": {
  "kernelspec": {
   "display_name": "Python 3",
   "language": "python",
   "name": "python3"
  },
  "language_info": {
   "codemirror_mode": {
    "name": "ipython",
    "version": 3
   },
   "file_extension": ".py",
   "mimetype": "text/x-python",
   "name": "python",
   "nbconvert_exporter": "python",
   "pygments_lexer": "ipython3",
   "version": "3.12.6"
  }
 },
 "nbformat": 4,
 "nbformat_minor": 2
}
