{
 "cells": [
  {
   "cell_type": "code",
   "execution_count": 5,
   "metadata": {},
   "outputs": [
    {
     "name": "stdout",
     "output_type": "stream",
     "text": [
      "\n",
      "MOVE to (0,0)\n",
      "MOVE to (0,1)\n",
      "MOVE to (0,2)\n",
      "MOVE to (0,3)\n",
      "MOVE to (1,3)\n",
      "MOVE to (1,2)\n",
      "MOVE to (1,1)\n",
      "MOVE to (1,0)\n",
      "MOVE to (2,0)\n",
      "MOVE to (2,1)\n",
      "MOVE to (2,2)\n",
      "MOVE to (2,3)\n"
     ]
    }
   ],
   "source": [
    "n = int(input('Masukkan nilai n: '))\n",
    "m = int(input('Masukkan nilai m: '))\n",
    "\n",
    "print('')\n",
    "\n",
    "if n < 0:\n",
    "    n = abs(n)\n",
    "    direction_n = -1\n",
    "else:\n",
    "    direction_n = 1\n",
    "\n",
    "if m < 0:\n",
    "    m = abs(m)\n",
    "    direction_m = -1\n",
    "else:\n",
    "    direction_m = 1\n",
    "\n",
    "for i in range(n):\n",
    "    if i % 2 == 0:\n",
    "        for j in range(m):\n",
    "            print(f\"MOVE to ({i * direction_n},{j * direction_m})\")\n",
    "    else:\n",
    "        for j in range(m-1, -1, -1):\n",
    "            print(f\"MOVE to ({i * direction_n},{j * direction_m})\")\n"
   ]
  }
 ],
 "metadata": {
  "kernelspec": {
   "display_name": "Python 3",
   "language": "python",
   "name": "python3"
  },
  "language_info": {
   "codemirror_mode": {
    "name": "ipython",
    "version": 3
   },
   "file_extension": ".py",
   "mimetype": "text/x-python",
   "name": "python",
   "nbconvert_exporter": "python",
   "pygments_lexer": "ipython3",
   "version": "3.12.6"
  }
 },
 "nbformat": 4,
 "nbformat_minor": 2
}
