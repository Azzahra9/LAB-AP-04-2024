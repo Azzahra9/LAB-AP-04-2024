{
 "cells": [
  {
   "cell_type": "code",
   "execution_count": 1,
   "metadata": {},
   "outputs": [
    {
     "name": "stdout",
     "output_type": "stream",
     "text": [
      "Ayo tebak angka!\n",
      "Angaknya diantara 1 hingga 100.\n",
      "Kamu punya 5 kesempatan untuk menebak.\n",
      "Masukkan '0' untuk menyerah.\n",
      "Angka terlalu kecil.\n",
      "Angka terlalu kecil.\n",
      "Angka terlalu kecil.\n",
      "Angka terlalu kecil.\n",
      "Masukkan angka yang valid.\n",
      "Angka terlalu besar.\n",
      "Maaf, Anda kehabisan percobaan. Angka yang benar adalah 94.\n"
     ]
    }
   ],
   "source": [
    "import random\n",
    "\n",
    "varAngka\t\t= random.randint(1, 100)\n",
    "percobaan\t\t= 0\n",
    "max_percobaan\t= 5\n",
    "\n",
    "print(\"Ayo tebak angka!\")\n",
    "print(\"Angaknya diantara 1 hingga 100.\")\n",
    "print(\"Kamu punya 5 kesempatan untuk menebak.\")\n",
    "print(\"Masukkan '0' untuk menyerah.\")\n",
    "\n",
    "while percobaan < max_percobaan:\n",
    "\ttry:\n",
    "\t\ttebakan = int(input(\"Masukkan tebakan Anda: \"))\n",
    "\n",
    "\t\tif tebakan == 0:\n",
    "\t\t\tprint(\"Anda telah berhenti bermain.\")\n",
    "\t\t\tbreak\n",
    "\n",
    "\t\tpercobaan += 1\n",
    "\n",
    "\t\tif tebakan == varAngka:\n",
    "\t\t\tprint(f\"Selamat! Anda menebak angka yang benar yaitu {varAngka}.\")\n",
    "\t\t\tbreak\n",
    "\t\telif tebakan > varAngka:\n",
    "\t\t\tprint(\"Angka terlalu besar.\")\n",
    "\t\telse:\n",
    "\t\t\tprint(\"Angka terlalu kecil.\")\n",
    "\n",
    "\t\tif percobaan == max_percobaan:\n",
    "\t\t\tprint(f\"Maaf, Anda kehabisan percobaan. Angka yang benar adalah {varAngka}.\")\n",
    "\n",
    "\texcept ValueError:\n",
    "\t\tprint(\"Masukkan angka yang valid.\")\n",
    "\t\tpercobaan += 1\n",
    "\n",
    "\t\tif percobaan == max_percobaan:\n",
    "\t\t\tprint(f\"Maaf, Anda kehabisan percobaan. Angka yang benar adalah {varAngka}.\")"
   ]
  }
 ],
 "metadata": {
  "kernelspec": {
   "display_name": "Python 3",
   "language": "python",
   "name": "python3"
  },
  "language_info": {
   "codemirror_mode": {
    "name": "ipython",
    "version": 3
   },
   "file_extension": ".py",
   "mimetype": "text/x-python",
   "name": "python",
   "nbconvert_exporter": "python",
   "pygments_lexer": "ipython3",
   "version": "3.12.6"
  }
 },
 "nbformat": 4,
 "nbformat_minor": 2
}
