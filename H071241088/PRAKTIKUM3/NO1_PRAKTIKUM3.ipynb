{
 "cells": [
  {
   "cell_type": "code",
   "execution_count": 14,
   "metadata": {},
   "outputs": [
    {
     "name": "stdout",
     "output_type": "stream",
     "text": [
      "inputan tidak valid\n"
     ]
    }
   ],
   "source": [
    "\n",
    "try:\n",
    "\tinp\t= int(input('masukkan tinggi: '))\n",
    "\ttinggiAtas\t= inp//2 + 1 if inp % 2 == 0 else inp//2 + 2\n",
    "\n",
    "\tfor i in range(1, tinggiAtas):\n",
    "\t\tprint(' ' * ( inp - (2 * i) + 1),'* ' * (i + (i - 1)))\n",
    "\n",
    "\tfor i in range(inp//2, 0, -1):\n",
    "\t\tprint(' ' * ( inp - (2 * i) + 1),'* ' * (i + (i - 1)))\n",
    "\t\n",
    "except ValueError:\n",
    "\t\tprint(\"inputan harus angka\")\n",
    "\n",
    "else:\n",
    "\tprint(\"inputan tidak valid\")\n",
    "\t\t"
   ]
  }
 ],
 "metadata": {
  "kernelspec": {
   "display_name": "Python 3",
   "language": "python",
   "name": "python3"
  },
  "language_info": {
   "codemirror_mode": {
    "name": "ipython",
    "version": 3
   },
   "file_extension": ".py",
   "mimetype": "text/x-python",
   "name": "python",
   "nbconvert_exporter": "python",
   "pygments_lexer": "ipython3",
   "version": "3.12.6"
  }
 },
 "nbformat": 4,
 "nbformat_minor": 2
}
